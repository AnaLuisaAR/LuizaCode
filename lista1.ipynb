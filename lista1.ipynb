{
 "cells": [
  {
   "cell_type": "markdown",
   "metadata": {},
   "source": [
    "1) O Python trabalha tipos de valores. Com os valores abaixo, dê o nome de seus tipos:\n",
    "\n",
    "1\n",
    "12.6\n",
    "True\n",
    "False\n",
    "-543\n",
    "-5.78\n",
    "“copo”\n",
    "‘Belo dia’"
   ]
  },
  {
   "cell_type": "code",
   "execution_count": 2,
   "metadata": {},
   "outputs": [
    {
     "name": "stdout",
     "output_type": "stream",
     "text": [
      "Para o valor 1 o tipo é <class 'int'>\n",
      "Para o valor 12.6 o tipo é <class 'float'>\n",
      "Para o valor True o tipo é <class 'bool'>\n",
      "Para o valor False o tipo é <class 'bool'>\n",
      "Para o valor -543 o tipo é <class 'int'>\n",
      "Para o valor -5.78 o tipo é <class 'float'>\n",
      "Para o valor copo o tipo é <class 'str'>\n",
      "Para o valor Belo dia o tipo é <class 'str'>\n"
     ]
    }
   ],
   "source": [
    "values = [1, 12.6, True, False, -543, -5.78, \"copo\", 'Belo dia']\n",
    "\n",
    "for value in values:\n",
    "    print(f\"Para o valor {value} o tipo é {type(value)}\")"
   ]
  },
  {
   "cell_type": "markdown",
   "metadata": {},
   "source": [
    "2) Digite cada linha abaixo no shell do Python e informe quais estão corretos e quais apresentam erro:\n",
    "\n",
    "1\n",
    "1a Erro\n",
    "a1 Erro\n",
    "1.\n",
    ".2\n",
    "-.3\n",
    "'agua\"limpa'\n",
    "\"agua\"\" Erro\n",
    "\"\"\"teste 1 2 3\"\"\"\n"
   ]
  },
  {
   "cell_type": "markdown",
   "metadata": {},
   "source": [
    "3) Determine qual é o resultado dos seguintes cálculos no Python:\n",
    "\n",
    "Operadores matemáticos\n",
    "10 + 3\n",
    "10 -  3\n",
    "10 * 3\n",
    "10 / 3\n",
    "10 / 3.0\n",
    "13 / 3\n",
    "13 / 3.0\n",
    "13 // 3.0\n",
    "Ordem dos operadores\n",
    "5 + 30 * 20\n",
    "(5 + 30) * 20\n",
    "((5 + 30) * 20) / 10\n",
    "5 + 30 * 20 / 10\n",
    "Operadores comparação\n",
    "2 < 3\n",
    "9 > 8\n",
    "1 == 1\n",
    "1 != 2\n",
    "1 != 1\n",
    "4 <= 4\n",
    "5 >= 6\n",
    "1 < 2 < 3\n",
    "1 < 2 < 2\n",
    "1 + 2 < 25 / 5\n",
    "Mais operadores matemáticos:\n",
    "2 ** 4\n",
    "26 % 5\n",
    "Operadores lógicos\n",
    "not True\n",
    "not False\n",
    "True and True\n",
    "True and False\n",
    "False and True\n",
    "False and False\n",
    "True or True\n",
    "True or False\n",
    "False or True\n",
    "False or False\n",
    "True or True and False\n",
    "(True or True) and False\n",
    "not True or False\n",
    "not (True or False)\n",
    "not (True and False) and (True or False)\n",
    "1 > 2 and 3 > 4\n",
    "1 > 2 and 3 < 4\n",
    "1 < 2 and 3 < 4\n",
    "1 + 2 and 3 + 4\n",
    "1 + 2 or 3 + 4\n",
    "True and 3 > 5\n",
    "False and 3 >5"
   ]
  },
  {
   "cell_type": "code",
   "execution_count": 15,
   "metadata": {},
   "outputs": [
    {
     "name": "stdout",
     "output_type": "stream",
     "text": [
      "Operadores matemáticos\n",
      "10 + 3 = 13\n",
      "10 - 3 = 7\n",
      "10 * 3 = 30\n",
      "10 / 3 = 3.3333333333333335\n",
      "10 / 3.0 = 3.3333333333333335\n",
      "13 / 3 = 4.333333333333333\n",
      "13 / 3.0 = 4.333333333333333\n",
      "13 // 3.0 = 4.0\n",
      "\n",
      "Ordem dos operadores\n",
      "5 + 30 * 20 = 605\n",
      "(5 + 30) * 20 = 700\n",
      "((5 + 30) * 20) / 10 = 70.0\n",
      "5 + 30 * 20 / 10 = 65.0\n",
      "\n",
      "Operadores comparação\n",
      "2 < 3 => True\n",
      "9 > 8 => True\n",
      "1 == 1 => True\n",
      "1 != 2 => True\n",
      "4 <= 4 => True\n",
      "5 >= 6 => False\n",
      "1 < 2 < 3 => True\n",
      "1 < 2 < 2 => False\n",
      "1 + 2 < 25 / 5 => True\n"
     ]
    }
   ],
   "source": [
    "print('Operadores matemáticos')\n",
    "print(f'10 + 3 = {10 + 3}')\n",
    "print(f'10 - 3 = {10 - 3}')\n",
    "print(f'10 * 3 = {10 * 3}')\n",
    "print(f'10 / 3 = {10 / 3}')\n",
    "print(f'10 / 3.0 = {10 / 3.0}')\n",
    "print(f'13 / 3 = {13 / 3}')\n",
    "print(f'13 / 3.0 = {13 / 3.0}')\n",
    "print(f'13 // 3.0 = {13 // 3.0}')\n",
    "\n",
    "print('\\nOrdem dos operadores')\n",
    "print(f'5 + 30 * 20 = {5 + 30 * 20}')\n",
    "print(f'(5 + 30) * 20 = {(5 + 30) * 20}')\n",
    "print(f'((5 + 30) * 20) / 10 = {((5 + 30) * 20) / 10}')\n",
    "print(f'5 + 30 * 20 / 10 = {5 + 30 * 20 / 10}')\n",
    "\n",
    "print('\\nOperadores comparação')\n",
    "print(f'2 < 3 => {2 < 3}')\n",
    "print(f'9 > 8 => {9 > 8}')\n",
    "print(f'1 == 1 => {1 == 1}')\n",
    "print(f'1 != 2 => {1 != 2}')\n",
    "print(f'4 <= 4 => {4 <= 4}')\n",
    "print(f'5 >= 6 => {5 >= 6}')\n",
    "print(f'1 < 2 < 3 => {1 < 2 < 3}')\n",
    "print(f'1 < 2 < 2 => {1 < 2 < 2}')\n",
    "print(f'1 + 2 < 25 / 5 => {1 + 2 < 25 / 5}')"
   ]
  },
  {
   "cell_type": "code",
   "execution_count": 16,
   "metadata": {},
   "outputs": [
    {
     "name": "stdout",
     "output_type": "stream",
     "text": [
      "Mais operadores matemáticos\n",
      "2 ** 4 = 16\n",
      "26 % 5 = 1\n",
      "\n",
      "Operadores lógicos\n",
      "not True => False\n",
      "not False => True\n",
      "True and True => True\n",
      "True and False => False\n",
      "False and True => False\n",
      "False and False => False\n",
      "True or True => True\n",
      "True or False => True\n",
      "False or True => True\n",
      "False or False => False\n",
      "True or True and False => True\n",
      "(True or True) and False => False\n",
      "not True or False => False\n",
      "not (True or False) => False\n",
      "not (True and False) and (True or False) => True\n",
      "1 > 2 and 3 > 4 => False\n",
      "1 > 2 and 3 < 4 => False\n",
      "1 < 2 and 3 < 4 => True\n",
      "1 + 2 and 3 + 4 => 7\n",
      "1 + 2 or 3 + 4 => 3\n",
      "True and 3 > 5 => False\n",
      "False and 3 >5 => False\n"
     ]
    }
   ],
   "source": [
    "print('Mais operadores matemáticos')\n",
    "print(f'2 ** 4 = {2 ** 4}')\n",
    "print(f'26 % 5 = {26 % 5}')\n",
    "\n",
    "print('\\nOperadores lógicos')\n",
    "print(f'not True => {not True}')\n",
    "print(f'not False => {not False}')\n",
    "print(f'True and True => {True and True}')\n",
    "print(f'True and False => {True and False}')\n",
    "print(f'False and True => {False and True}')\n",
    "print(f'False and False => {False and False}')\n",
    "print(f'True or True => {True or True}')\n",
    "print(f'True or False => {True or False}')\n",
    "print(f'False or True => {False or True}')\n",
    "print(f'False or False => {False or False}')\n",
    "print(f'True or True and False => {True or True and False}')\n",
    "print(f'(True or True) and False => {(True or True) and False}')\n",
    "print(f'not True or False => {not True or False}')\n",
    "print(f'not (True or False) => {not (True or False)}')\n",
    "print(f'not (True and False) and (True or False) => {not (True and False) and (True or False)}')\n",
    "print(f'1 > 2 and 3 > 4 => {1 > 2 and 3 > 4}')\n",
    "print(f'1 > 2 and 3 < 4 => {1 > 2 and 3 < 4}')\n",
    "print(f'1 < 2 and 3 < 4 => {1 < 2 and 3 < 4}')\n",
    "print(f'1 + 2 and 3 + 4 => {1 + 2 and 3 + 4}')\n",
    "print(f'1 + 2 or 3 + 4 => {1 + 2 or 3 + 4}')\n",
    "print(f'True and 3 > 5 => {True and 3 > 5}')\n",
    "print(f'False and 3 >5 => {False and 3 >5}')"
   ]
  },
  {
   "cell_type": "markdown",
   "metadata": {},
   "source": [
    "Qual será o valor final de x?\n",
    "\n",
    "x = 10\n",
    "x = x + 10\n",
    "x = 100 - x\n"
   ]
  },
  {
   "cell_type": "code",
   "execution_count": 17,
   "metadata": {},
   "outputs": [
    {
     "name": "stdout",
     "output_type": "stream",
     "text": [
      "x = 80\n"
     ]
    }
   ],
   "source": [
    "x = 10\n",
    "x = x + 10\n",
    "x = 100 - x\n",
    "print(f'x = {x}')"
   ]
  },
  {
   "cell_type": "markdown",
   "metadata": {},
   "source": [
    "5) Resolva estes problemas em Python, guardando os valores e seus resultados em variáveis diferentes. \n",
    "Calcule a área de um quadrado cujo lado seja 2 cm.\n",
    "Uma mala custa R$120,00. Esta recebeu 5% de desconto. Quanto você irá pagar por ela.\n",
    "Um carro está viajando a uma velocidade média de 100 Km/h, o trecho de viagem será 200 Km. Quantas horas irá demorar  a viagem.\n",
    "João tem 2 pirulitos, Maria 3 pirulitos e Sofia 1 pirulito. Calcule o total de pirulitos e sua média.\n",
    "Davi tem 13 anos e sua irmã tem 7 anos. Guarde na variável eh_mais_velho a verificação se a idade de Davi é maior que a idade de sua irmã."
   ]
  },
  {
   "cell_type": "code",
   "execution_count": 19,
   "metadata": {},
   "outputs": [
    {
     "name": "stdout",
     "output_type": "stream",
     "text": [
      "A área do quadrado é 4\n",
      "O preço da mala será 114.0\n",
      "A viagem irá demorar 2.0 horas\n",
      "O total de pirulitos é 6 e a média é 2.0\n",
      "A idade de Davi é maior? True\n"
     ]
    }
   ],
   "source": [
    "lado = 2\n",
    "area = 2**2\n",
    "print(f\"A área do quadrado é {area}\")\n",
    "\n",
    "preco = 120\n",
    "desconto = 0.05\n",
    "preco_final = preco * (1 - desconto)\n",
    "print(f\"O preço da mala será {preco_final}\")\n",
    "\n",
    "velocidade = 100\n",
    "distancia = 200\n",
    "tempo = distancia/velocidade\n",
    "print(f\"A viagem irá demorar {tempo} horas\")\n",
    "\n",
    "joao = 2\n",
    "maria = 3\n",
    "sofia = 1\n",
    "total = joao + maria + sofia\n",
    "media = total/3\n",
    "print(f\"O total de pirulitos é {total} e a média é {media}\")\n",
    "\n",
    "davi = 13\n",
    "irma = 7\n",
    "eh_mais_velho = davi > irma\n",
    "print(f\"A idade de Davi é maior? {eh_mais_velho}\")"
   ]
  },
  {
   "cell_type": "markdown",
   "metadata": {},
   "source": [
    "6) Qual será o valor de z? Qual seria outra forma de escrever este trecho de código?\n",
    "\n",
    "z = 3\n",
    "z += 2\n",
    "z *= 6\n",
    "z /= 5\n"
   ]
  },
  {
   "cell_type": "code",
   "execution_count": 20,
   "metadata": {},
   "outputs": [
    {
     "name": "stdout",
     "output_type": "stream",
     "text": [
      "z = 6.0\n",
      "((3 + 2) * 6) / 5 = 6.0\n"
     ]
    }
   ],
   "source": [
    "z = 3\n",
    "z += 2\n",
    "z *= 6\n",
    "z /= 5\n",
    "\n",
    "print(f'z = {z}')\n",
    "\n",
    "z = ((3 + 2) * 6) / 5\n",
    "print(f'((3 + 2) * 6) / 5 = {z}')"
   ]
  },
  {
   "cell_type": "markdown",
   "metadata": {},
   "source": [
    "7)  Considere as seguintes variáveis:\n",
    "\n",
    "ovo = 3.4\n",
    "caju = 12.4\n",
    "Qual será o valor de resposta  em cada linha:\n",
    "\n",
    "resposta  = ovo if 1 > 2 else caju\n",
    "resposta = ovo if ovo > caju else caju\n",
    "resposta = ovo if ovo < caju else caju\n",
    "resposta = 100 if ovo + caju > 15 else 200\n",
    "resposta = 100 if ovo == 3 else 0\n"
   ]
  },
  {
   "cell_type": "code",
   "execution_count": 21,
   "metadata": {},
   "outputs": [
    {
     "name": "stdout",
     "output_type": "stream",
     "text": [
      "ovo if 1 > 2 else caju => 12.4\n",
      "ovo if ovo > caju else caju => 12.4\n",
      "ovo if ovo < caju else caju => 3.4\n",
      "100 if ovo + caju > 15 else 200 => 100\n",
      "100 if ovo == 3 else 0 => 0\n"
     ]
    }
   ],
   "source": [
    "ovo = 3.4\n",
    "caju = 12.4\n",
    "\n",
    "print(f'ovo if 1 > 2 else caju => {ovo if 1 > 2 else caju}')\n",
    "print(f'ovo if ovo > caju else caju => {ovo if ovo > caju else caju}')\n",
    "print(f'ovo if ovo < caju else caju => {ovo if ovo < caju else caju}')\n",
    "print(f'100 if ovo + caju > 15 else 200 => {100 if ovo + caju > 15 else 200}')\n",
    "print(f'100 if ovo == 3 else 0 => {100 if ovo == 3 else 0}')"
   ]
  },
  {
   "cell_type": "markdown",
   "metadata": {},
   "source": [
    "8) Qual é o resultado deste problema? Qual é o valor final da variável fim?\n",
    "\n",
    "ab = 10\n",
    "Ab = 20\n",
    "aB = 30\n",
    "AB = ab + Ab - aB\n",
    "fim = AB + 1\n"
   ]
  },
  {
   "cell_type": "code",
   "execution_count": 22,
   "metadata": {},
   "outputs": [
    {
     "name": "stdout",
     "output_type": "stream",
     "text": [
      "O resultado é 1\n"
     ]
    }
   ],
   "source": [
    "ab = 10\n",
    "Ab = 20\n",
    "aB = 30\n",
    "AB = ab + Ab - aB\n",
    "fim = AB + 1\n",
    "\n",
    "print(f'O resultado é {fim}')"
   ]
  },
  {
   "cell_type": "markdown",
   "metadata": {},
   "source": [
    "9) Qual é o resultado de cada linha de comando do Python? Siga a ordem dos comandos.\n",
    "\n",
    "valor = input(\"Informe um valor: \")\n",
    "print(\"Valor informado: \", valor)\n",
    "tipo = type(valor)\n",
    "x_str = \"123\"\n",
    "x = int(x_str)\n",
    "xf = float(x)\n",
    "sao_iguais = x == xf\n",
    "print(\"Um float é igual a um int?\", sao_iguais)\n"
   ]
  },
  {
   "cell_type": "code",
   "execution_count": 27,
   "metadata": {},
   "outputs": [
    {
     "name": "stdout",
     "output_type": "stream",
     "text": [
      "Valor informado:  1.5\n",
      "Um float é igual a um int? True\n"
     ]
    }
   ],
   "source": [
    "valor = input(\"Informe um valor: \")\n",
    "print(\"Valor informado: \", valor)\n",
    "tipo = type(valor)\n",
    "x_str = \"123\"\n",
    "x = int(x_str)\n",
    "xf = float(x)\n",
    "sao_iguais = x == xf\n",
    "print(\"Um float é igual a um int?\", sao_iguais)"
   ]
  },
  {
   "cell_type": "markdown",
   "metadata": {},
   "source": [
    "10) Crie o seguinte programa Python no arquivo: Colete o nome da pessoa, a cidade de nascimento dela, e o ano em que ela nasceu. Depois você irá mostrar os dados coletados em linhas diferentes. E também, deverá informar quantos anos a pessoa terá no ano 2030."
   ]
  },
  {
   "cell_type": "code",
   "execution_count": 29,
   "metadata": {},
   "outputs": [
    {
     "name": "stdout",
     "output_type": "stream",
     "text": [
      "Nome: Ana\n",
      "Cidade de Nascimento: São Paulo\n",
      "Ano de Nascimento: 1995\n",
      "Idade em 2030: 35\n"
     ]
    }
   ],
   "source": [
    "nome = input('Insira seu nome:')\n",
    "cidade = input('Insira a cidade de nascimento:')\n",
    "ano = input('Insira o ano de nascimento:')\n",
    "\n",
    "idade = 2030 - int(ano)\n",
    "\n",
    "print(f'Nome: {nome}\\nCidade de Nascimento: {cidade}\\nAno de Nascimento: {ano}\\nIdade em 2030: {idade}')"
   ]
  },
  {
   "cell_type": "markdown",
   "metadata": {},
   "source": [
    "11) Programa Python: Este programa irá calcular a área de um quadrado. Peça para a pessoa informar a medida numérica de um lado do quadrado. E depois informe-lhe o valor da área do quadrado."
   ]
  },
  {
   "cell_type": "code",
   "execution_count": 32,
   "metadata": {},
   "outputs": [
    {
     "name": "stdout",
     "output_type": "stream",
     "text": [
      "A área do quadrado é 25.0 m^2\n"
     ]
    }
   ],
   "source": [
    "unidade = input('Insira a unidade:')\n",
    "lado = input('Insira o valor do lado:')\n",
    "\n",
    "area = float(lado)**2\n",
    "\n",
    "print(f\"A área do quadrado é {area} {unidade}^2\")"
   ]
  },
  {
   "cell_type": "markdown",
   "metadata": {},
   "source": [
    "12) Programa Python: Este programa irá calcular a área de um triângulo. Peça para a pessoa informar a medida numérica da base do triângulo, depois colete o valor da altura. Apresente o valor da área do triângulo."
   ]
  },
  {
   "cell_type": "code",
   "execution_count": 35,
   "metadata": {},
   "outputs": [
    {
     "name": "stdout",
     "output_type": "stream",
     "text": [
      "A área do triangulo é 10.0 cm^2\n"
     ]
    }
   ],
   "source": [
    "unidade = input('Insira a unidade:')\n",
    "base = input('Insira o valor da base:')\n",
    "altura = input('Insira o valor da altura:')\n",
    "\n",
    "area = float(base) * float(altura) / 2\n",
    "\n",
    "print(f\"A área do triangulo é {area} {unidade}^2\")"
   ]
  },
  {
   "cell_type": "markdown",
   "metadata": {},
   "source": [
    "13). Crie o seguinte programa Python: Colete a idade de 3 pessoas e mostre a média de suas idades. "
   ]
  },
  {
   "cell_type": "code",
   "execution_count": 38,
   "metadata": {},
   "outputs": [
    {
     "name": "stdout",
     "output_type": "stream",
     "text": [
      "A media das idades é de 30.0 anos\n"
     ]
    }
   ],
   "source": [
    "idades = [int(input('Insira uma idade:')) for _ in range(3)]\n",
    "soma = 0\n",
    "for i in idades:\n",
    "    soma += i\n",
    "media = soma/3\n",
    "\n",
    "print(f'A media das idades é de {media} anos')"
   ]
  },
  {
   "cell_type": "markdown",
   "metadata": {},
   "source": [
    "14) Crie o seguinte programa Python: Colete a idade de duas pessoas. E informe se a primeira idade é maior do que a da segunda. Neste aqui, basta responder True para informar que a primeira idade é maior que a segunda."
   ]
  },
  {
   "cell_type": "code",
   "execution_count": 39,
   "metadata": {},
   "outputs": [
    {
     "name": "stdout",
     "output_type": "stream",
     "text": [
      "A primeira pessoa é mais velha que a segunda? True\n"
     ]
    }
   ],
   "source": [
    "idades = [int(input('Insira uma idade:')) for _ in range(2)]\n",
    "\n",
    "print(f'A primeira pessoa é mais velha que a segunda? {idades[0]>idades[1]}')"
   ]
  },
  {
   "cell_type": "markdown",
   "metadata": {},
   "source": [
    "15). Para o programa Python: Em uma casa, uma família decidiu dividir o valor da conta de energia entre os moradores da casa. No programa eles informam o valor da conta de energia e quantos que irão pagar a conta no mês. O programa calculará quanto cada um deverá contribuir com a conta de energia."
   ]
  },
  {
   "cell_type": "code",
   "execution_count": 41,
   "metadata": {},
   "outputs": [
    {
     "name": "stdout",
     "output_type": "stream",
     "text": [
      "Cada um deve pagar 33.33\n"
     ]
    }
   ],
   "source": [
    "conta = input(\"informe o valor da conta de energia:\")\n",
    "moradores = input(\"informe a quantidade de moradores:\")\n",
    "\n",
    "print(f\"Cada um deve pagar {round(float(conta)/int(moradores), 2)}\")"
   ]
  },
  {
   "cell_type": "markdown",
   "metadata": {},
   "source": [
    "16). Programa: Estou tentando entender os juros do meu banco. Para isto, ele me informou esta fórmula:\n",
    "valor_final = valor_emprestimo + (valor_emprestimo * taxa * tempo)\n",
    "onde que:\n",
    "valor_emprestimo: É o valor que pegarei emprestado.\n",
    "taxa: É o valor da taxa por mês. Por exemplo: se for 4% ao mês, o valor será 0.04.\n",
    "tempo: Quantidade de meses que irei pagar o empréstimo.\n",
    "Crie um programa que colete cada um destes valores para calcular o valor final que estarei pagando ao banco.\n"
   ]
  },
  {
   "cell_type": "code",
   "execution_count": 44,
   "metadata": {},
   "outputs": [
    {
     "name": "stdout",
     "output_type": "stream",
     "text": [
      "O valor final pago ao banco será de 250000.0\n"
     ]
    }
   ],
   "source": [
    "valor_emprestimo = float(input('Qual o valor do emprestimo?'))\n",
    "taxa = float(input('Qual o valor da taxa?'))\n",
    "tempo = int(input('Qual o valor perido de tempo?'))\n",
    "\n",
    "valor_final = valor_emprestimo + (valor_emprestimo * taxa * tempo)\n",
    "\n",
    "print(f'O valor final pago ao banco será de {valor_final}')"
   ]
  },
  {
   "cell_type": "markdown",
   "metadata": {},
   "source": [
    "17) Desafio: Dada uma equação de segundo grau, calcule suas raízes utilizando a fórmula de Bhaskara. "
   ]
  },
  {
   "cell_type": "code",
   "execution_count": 46,
   "metadata": {},
   "outputs": [
    {
     "name": "stdout",
     "output_type": "stream",
     "text": [
      "Sua equação é: 1.0x^2 + 4.0x + 4.0\n",
      "As raízes são -2.0 e -2.0\n"
     ]
    }
   ],
   "source": [
    "a = float(input('Insira o coeficiente quadratico da equação'))\n",
    "b = float(input('Insira o coeficiente linear da equação'))\n",
    "c = float(input('Insira o coeficiente constante da equação'))\n",
    "\n",
    "print(f'Sua equação é: {a}x^2 + {b}x + {c}')\n",
    "\n",
    "delta = b**2 - 4 * a * c\n",
    "x1 = (-b + delta**(1/2))/(2 * a)\n",
    "x2 = (-b - delta**(1/2))/(2 * a)\n",
    "\n",
    "print(f'As raízes são {x1} e {x2}')\n",
    "\n"
   ]
  },
  {
   "cell_type": "markdown",
   "metadata": {},
   "source": [
    "18) Faça um programa que leia a nota de um aluno. Garanta que a nota seja um valor inteiro entre zero e 100. Se o valor não estiver neste intervalo, informe que a nota é inválida. Se a nota for maior que 60, informa que o aluno foi aprovado; caso contrário, informa que ele foi reprovado."
   ]
  },
  {
   "cell_type": "code",
   "execution_count": 48,
   "metadata": {},
   "outputs": [
    {
     "name": "stdout",
     "output_type": "stream",
     "text": [
      "Parabéns você foi aprovados\n"
     ]
    }
   ],
   "source": [
    "nota = int(input('Insira a nota:'))\n",
    "while not 0 <= nota <= 100:\n",
    "   print('Valor inválido dev ser um número entre 0 e 100')\n",
    "   nota = int(input('Insira a nota:'))\n",
    "if nota >= 60:\n",
    "    print('Parabéns você foi aprovados')\n",
    "else:\n",
    "    print('Infelizmente você foi reprovado')"
   ]
  },
  {
   "cell_type": "markdown",
   "metadata": {},
   "source": [
    "19). Um vendedor ganha uma comissão de uma venda da seguinte forma: Se a venda for …\n",
    "menor que R$1000,00, o vendedor não ganha nenhuma comissão;\n",
    "entre R$1.000,00 e R$5.000,00, o vendedor ganha uma comissão de 10% da venda;\n",
    "entre R$5.000,00 e R$10.000,00, a comissão será de 20% da venda;\n",
    "entre R$10.000,00 e R$50.000,00 a comissão será de 25% da venda;\n",
    "acima de R$50.000,00 a comissão será de 30% da venda.\n",
    "Faça um programa que informe o valor da comissão do vendedor para uma venda.\n"
   ]
  },
  {
   "cell_type": "code",
   "execution_count": 66,
   "metadata": {},
   "outputs": [
    {
     "name": "stdout",
     "output_type": "stream",
     "text": [
      "O valor da comissão é de 300000000000.0\n"
     ]
    }
   ],
   "source": [
    "import numpy as np\n",
    "\n",
    "valores_comissao = {\n",
    "    0: [0, 1000],\n",
    "    0.1: [1000, 5000],\n",
    "    0.2: [5000, 10000],\n",
    "    0.25: [10000, 50000],\n",
    "    0.3: [50000, np.inf]\n",
    "}\n",
    "\n",
    "venda = float(input('Valor da Venda:'))\n",
    "\n",
    "for key, value in valores_comissao.items():\n",
    "    if value[0] <= venda < value[1]:\n",
    "        comissao = key\n",
    "        break\n",
    "\n",
    "print(f'O valor da comissão é de {round(venda*comissao, 2)}')"
   ]
  },
  {
   "cell_type": "markdown",
   "metadata": {},
   "source": [
    "20) Crie um programa para calcular o valor a ser pago para um determinado produto para a empresa NaoQueroMuitoSeuDinheiro. O pessoal desta empresa pediu o seguinte:\n",
    "Vamos coletar três valores:\n",
    "O valor inicial da parcela.\n",
    "O valor percentual de cada parcela.\n",
    "A quantidade de parcelas. \n",
    "Para cada parcela a ser paga, o cálculo é o seguinte:\n",
    " valor_parcela = valor_anterior + (valor_anterior * percentual)\n",
    "No caso da primeira parcela, o valor anterior é o valor inicial.\n",
    "Crie um programa que irá mostrar cada parcela e o seu valor. Por exemplo: se o valor inicial for $100,00, o valor do percentual for 0,10, e a quantidade de parcelas for 2; logo nosso programa irá mostrar:\n",
    "Parcela 1: $ 110.0\n",
    "Parcela 2: $ 121.0\n"
   ]
  },
  {
   "cell_type": "code",
   "execution_count": 5,
   "metadata": {},
   "outputs": [
    {
     "name": "stdout",
     "output_type": "stream",
     "text": [
      "Parcela 1: $ 110.0\n",
      "Parcela 2: $ 121.0\n",
      "Parcela 3: $ 133.1\n",
      "Parcela 4: $ 146.41\n",
      "Parcela 5: $ 161.05\n"
     ]
    }
   ],
   "source": [
    "valor_inicial_parcela = float(input('Qual o valor da parcela?'))\n",
    "pct_parcela = float(input('Qual o valor percentual de cada parcela?'))\n",
    "qty_parcela = int(input('Qual a quantidade de parcelas?'))\n",
    "\n",
    "valor_parcela = [valor_inicial_parcela * (1 + pct_parcela) ** (i+1) for i in range(qty_parcela)]\n",
    "\n",
    "res = [print(f'Parcela {i+1}: $ {round(valor_parcela[i], 2)}') for i in range(qty_parcela)]"
   ]
  },
  {
   "cell_type": "markdown",
   "metadata": {},
   "source": [
    "21. O pessoal da empresa Caça-Clientes trabalha com ligações para números aleatórios. Eles recebem uma lista com vários intervalos de números para eles ligarem. Na lista recebida, você tem o prefixo do telefone, o primeiro sufixo e o último sufixo. Crie um script que liste todos os números dos telefones, ao serem informados, o prefixo e os sufixos. Por exemplo, suponha que o prefixo seja “3232” e que o primeiro prefixo seja “0001” e o último sufixo seja “0005”; logo o programa irá imprimir:\n",
    "Seus números de telefone são:\n",
    "3232-0001\n",
    "3232-0002\n",
    "3232-0003\n",
    "3232-0004\n",
    "3232-0005"
   ]
  },
  {
   "cell_type": "code",
   "execution_count": 14,
   "metadata": {},
   "outputs": [
    {
     "name": "stdout",
     "output_type": "stream",
     "text": [
      "0001-0001\n",
      "0001-0002\n",
      "0001-0003\n"
     ]
    }
   ],
   "source": [
    "prefixo = input('Qual o prefixo?')\n",
    "primeiro_sufixo = int(input('Qual o primeiro sufixo?'))\n",
    "ultimo_sufixo = int(input('Qual o ultimo sufixo?'))\n",
    "\n",
    "if primeiro_sufixo <= ultimo_sufixo:\n",
    "    numeros = [print(f'{prefixo}-{i:04d}') for i in range(primeiro_sufixo, ultimo_sufixo+1)]\n",
    "else:\n",
    "    numeros = [print(f'{prefixo}-{i:04d}') for i in range(ultimo_sufixo, primeiro_sufixo+1)]"
   ]
  },
  {
   "cell_type": "markdown",
   "metadata": {},
   "source": [
    "22). Crie um script que leia 10 números inteiros positivos e que irá apresentar:\n",
    "A lista dos valores lidos de forma ordenada.\n",
    "A contagem de cada item. Por exemplo, se o usuário informou [1,1,1,1,2, 3], aqui apresentamos:\n",
    "1: 4x.\n",
    "2: 1x.\n",
    "3: 1x.\n",
    "Uma saída identificando o número, se o número é par e se é primo. Isto será feito separando por vírgulas: Por exemplo, se informou [1,2,3,6]. Iremos apresentar aqui:\n",
    "1,ímpar,não é primo\n",
    "2,par,é primo\n",
    "3,ímpar,é primo\n",
    "6,par,não é primo\n"
   ]
  },
  {
   "cell_type": "code",
   "execution_count": 2,
   "metadata": {},
   "outputs": [
    {
     "name": "stdout",
     "output_type": "stream",
     "text": [
      "A lista ordenada é: [1, 2, 3, 4, 5, 6, 7, 8, 9, 10]\n",
      "1: 1x.\n",
      "2: 1x.\n",
      "3: 1x.\n",
      "4: 1x.\n",
      "5: 1x.\n",
      "6: 1x.\n",
      "7: 1x.\n",
      "8: 1x.\n",
      "9: 1x.\n",
      "10: 1x.\n",
      "1,impar,é primo\n",
      "2,par,é primo\n",
      "3,impar,é primo\n",
      "4,par,não é primo\n",
      "5,impar,é primo\n",
      "6,par,não é primo\n",
      "7,impar,é primo\n",
      "8,par,não é primo\n",
      "9,impar,não é primo\n",
      "10,par,não é primo\n"
     ]
    }
   ],
   "source": [
    "numbers = [int(input(f'Insira o {i+1}º número inteiro positivo:')) for i in range(10)]\n",
    "\n",
    "numbers.sort()\n",
    "print(f'A lista ordenada é: {numbers}')\n",
    "\n",
    "elementos_unicos = set(numbers)\n",
    "contagem = [print(f'{n}: {numbers.count(n)}x.') for n in elementos_unicos]\n",
    "\n",
    "def paridade_e_primo(numero):\n",
    "    if numero % 2 == 0:\n",
    "        paridade = 'par'\n",
    "        if numero == 2:\n",
    "            primo = 'é primo'\n",
    "        else:\n",
    "            primo = 'não é primo'\n",
    "    else:\n",
    "        paridade = 'impar'\n",
    "        primo = 'é primo'\n",
    "        for i in range(2, int(numero/2)):\n",
    "            if (numero%i) == 0:\n",
    "                primo = 'não é primo'\n",
    "                break\n",
    "    return numero, paridade, primo\n",
    "\n",
    "res = [paridade_e_primo(n) for n in elementos_unicos]\n",
    "print = [print(f'{x[0]},{x[1]},{x[2]}') for x in res]"
   ]
  },
  {
   "cell_type": "markdown",
   "metadata": {},
   "source": [
    "23) Neste script você irá ler o nome de 4 alunos e suas notas e determinar qual aluno possui a maior nota.\n"
   ]
  },
  {
   "cell_type": "code",
   "execution_count": 1,
   "metadata": {},
   "outputs": [
    {
     "name": "stdout",
     "output_type": "stream",
     "text": [
      "ana\n"
     ]
    }
   ],
   "source": [
    "dados = {input(f'Insira o nome do {i+1}º aluno:'): float(input('Insira a sua nota:')) for i in range(4)}\n",
    "\n",
    "notas = list(dados.values())\n",
    "nomes = list(dados.keys())\n",
    "notas_ordenadas = notas.copy()\n",
    "notas_ordenadas.sort()\n",
    "for key, value in dados.items():\n",
    "    if notas_ordenadas[-1] == value:\n",
    "        aluno = key\n",
    "print(f'O aluno com a maior nota foi: {aluno}')"
   ]
  }
 ],
 "metadata": {
  "kernelspec": {
   "display_name": "Python 3.8.10 64-bit",
   "language": "python",
   "name": "python3"
  },
  "language_info": {
   "codemirror_mode": {
    "name": "ipython",
    "version": 3
   },
   "file_extension": ".py",
   "mimetype": "text/x-python",
   "name": "python",
   "nbconvert_exporter": "python",
   "pygments_lexer": "ipython3",
   "version": "3.8.10"
  },
  "orig_nbformat": 4,
  "vscode": {
   "interpreter": {
    "hash": "916dbcbb3f70747c44a77c7bcd40155683ae19c65e1c03b4aa3499c5328201f1"
   }
  }
 },
 "nbformat": 4,
 "nbformat_minor": 2
}
