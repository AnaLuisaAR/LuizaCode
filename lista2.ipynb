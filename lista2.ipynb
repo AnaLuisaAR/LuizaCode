{
 "cells": [
  {
   "cell_type": "markdown",
   "metadata": {},
   "source": [
    "1. Dada as seguintes informações: Pessoa, cpf, nome e idade, crie uma\n",
    "classe onde teremos o retorno do documento, o retorno do nome e\n",
    "verificação de tipo de pessoa, onde um método irá receber como\n",
    "parâmetro “F” ou “N” para trazer fumante ou não fumante.\n",
    "Feito isso, crie uma instância e retorne esses valores."
   ]
  },
  {
   "cell_type": "code",
   "execution_count": 23,
   "metadata": {},
   "outputs": [],
   "source": [
    "class Pessoa():\n",
    "    \n",
    "    def __init__(self, pessoa, cpf, nome, idade):\n",
    "        self.pessoa = pessoa\n",
    "        self.cpf=cpf\n",
    "        self.nome = nome\n",
    "        self.idade = idade\n",
    "\n",
    "    def smoker(self, state):\n",
    "        if state == 'F':\n",
    "            self.smoker = 'Fumante'\n",
    "        elif state == 'N':\n",
    "            self.smoker = 'Não Fumante'\n",
    "    \n",
    "    def return_data(self):\n",
    "        print(f\"Pessoa do tipo: {self.pessoa}\")\n",
    "        print(f\"Nº CPF: {self.cpf}\")\n",
    "        print(f\"Nome: {self.nome}\")\n",
    "        print(f\"Idade: {self.idade}\")\n",
    "        if self.smoker:\n",
    "            print(self.smoker)\n",
    "        "
   ]
  },
  {
   "cell_type": "code",
   "execution_count": 2,
   "metadata": {},
   "outputs": [],
   "source": [
    "pessoa = Pessoa('Física', '99999999999', 'Ana Luisa Amadeu Ribeiro', 26)"
   ]
  },
  {
   "cell_type": "code",
   "execution_count": 4,
   "metadata": {},
   "outputs": [],
   "source": [
    "pessoa.smoker('N')"
   ]
  },
  {
   "cell_type": "code",
   "execution_count": 5,
   "metadata": {},
   "outputs": [
    {
     "name": "stdout",
     "output_type": "stream",
     "text": [
      "Física\n",
      "99999999999\n",
      "Ana Luisa Amadeu Ribeiro\n",
      "26\n",
      "Não Fumante\n"
     ]
    }
   ],
   "source": [
    "pessoa.return_data()"
   ]
  },
  {
   "cell_type": "markdown",
   "metadata": {},
   "source": [
    "2. Escreva uma classe “PessoaFisica” e herde Pessoa, crie um método\n",
    "exclusivo para a classe e acesse-o"
   ]
  },
  {
   "cell_type": "code",
   "execution_count": 16,
   "metadata": {},
   "outputs": [],
   "source": [
    "class PessoaFisica(Pessoa):\n",
    "\n",
    "    def __init__(self, cpf, nome, idade):\n",
    "        super().__init__('Física', cpf, nome, idade)\n",
    "    \n",
    "    def data_nascimento(self):\n",
    "        return (2022-self.idade)"
   ]
  },
  {
   "cell_type": "code",
   "execution_count": 17,
   "metadata": {},
   "outputs": [],
   "source": [
    "pessoa = PessoaFisica('99999999999', 'Ana Luisa Amadeu Ribeiro', 26)"
   ]
  },
  {
   "cell_type": "code",
   "execution_count": null,
   "metadata": {},
   "outputs": [],
   "source": [
    "pessoa.smoker('F')"
   ]
  },
  {
   "cell_type": "code",
   "execution_count": 19,
   "metadata": {},
   "outputs": [
    {
     "data": {
      "text/plain": [
       "1996"
      ]
     },
     "execution_count": 19,
     "metadata": {},
     "output_type": "execute_result"
    }
   ],
   "source": [
    "pessoa.data_nascimento()"
   ]
  },
  {
   "cell_type": "code",
   "execution_count": null,
   "metadata": {},
   "outputs": [],
   "source": [
    "pessoa.return_data()"
   ]
  },
  {
   "cell_type": "markdown",
   "metadata": {},
   "source": [
    "3. Escreva uma classe “PessoaJurica” e herde Pessoa, agora\n",
    "modificando o comportamento, retorne o cnpj. Crie uma instância e\n",
    "acesse os dados"
   ]
  },
  {
   "cell_type": "code",
   "execution_count": 24,
   "metadata": {},
   "outputs": [],
   "source": [
    "class PessoaJuridica(Pessoa):\n",
    "\n",
    "    def __init__(self, cnpj, nome, idade):\n",
    "        super().__init__('Jurídica', cnpj, nome, idade)\n",
    "\n",
    "    def return_data(self):\n",
    "        print(f\"Pessoa do tipo: {self.pessoa}\")\n",
    "        print(f\"Nº CNPJ: {self.cpf}\")\n",
    "        print(f\"Nome: {self.nome}\")\n",
    "        print(f\"Idade: {self.idade}\")"
   ]
  },
  {
   "cell_type": "code",
   "execution_count": 25,
   "metadata": {},
   "outputs": [],
   "source": [
    "empresa = PessoaJuridica('123412341234', 'Comidinhas S/A', 4)"
   ]
  },
  {
   "cell_type": "code",
   "execution_count": 26,
   "metadata": {},
   "outputs": [
    {
     "name": "stdout",
     "output_type": "stream",
     "text": [
      "Pessoa do tipo: Jurídica\n",
      "Nº CNPJ: 123412341234\n",
      "Nome: Comidinhas S/A\n",
      "Idade: 4\n"
     ]
    }
   ],
   "source": [
    "empresa.return_data()"
   ]
  },
  {
   "cell_type": "markdown",
   "metadata": {},
   "source": [
    "4. Crie um professor de classe com atributos nome, idade e salário, onde\n",
    "o salário deve ter um método privado que não pode ser acessado fora\n",
    "da classe.\n",
    "a. Crie um método para acessar o método privado, onde é passada\n",
    "a identificação do usuário se ele pode ou não acessar."
   ]
  },
  {
   "cell_type": "code",
   "execution_count": 29,
   "metadata": {},
   "outputs": [],
   "source": [
    "class Professor():\n",
    "    def __init__(self, nome, idade, salario):\n",
    "        self.nome = nome\n",
    "        self.idade = idade\n",
    "        self.__salario = salario\n",
    "    \n",
    "    def get_salary(self, user_id):\n",
    "        if user_id == '123':\n",
    "            print(f'O salário do(a) {self.nome} é de R$ {self.__salario}')\n",
    "        else:\n",
    "            print('id do usuário está incorreto')\n",
    "    \n",
    "    def get_data(self):\n",
    "        print(f'A professor(a) {self.nome} tem {self.idade} anos')"
   ]
  },
  {
   "cell_type": "code",
   "execution_count": 30,
   "metadata": {},
   "outputs": [
    {
     "name": "stdout",
     "output_type": "stream",
     "text": [
      "A professor(a) Ana tem 26 anos\n"
     ]
    },
    {
     "ename": "AttributeError",
     "evalue": "'Professor' object has no attribute 'salario'",
     "output_type": "error",
     "traceback": [
      "\u001b[0;31m---------------------------------------------------------------------------\u001b[0m",
      "\u001b[0;31mAttributeError\u001b[0m                            Traceback (most recent call last)",
      "\u001b[0;32m<ipython-input-30-7c8769e9473d>\u001b[0m in \u001b[0;36m<module>\u001b[0;34m\u001b[0m\n\u001b[1;32m      3\u001b[0m \u001b[0mprofessor\u001b[0m\u001b[0;34m.\u001b[0m\u001b[0mget_data\u001b[0m\u001b[0;34m(\u001b[0m\u001b[0;34m)\u001b[0m\u001b[0;34m\u001b[0m\u001b[0;34m\u001b[0m\u001b[0m\n\u001b[1;32m      4\u001b[0m \u001b[0;34m\u001b[0m\u001b[0m\n\u001b[0;32m----> 5\u001b[0;31m \u001b[0mprint\u001b[0m\u001b[0;34m(\u001b[0m\u001b[0;34mf'O salário é de {professor.salario}'\u001b[0m\u001b[0;34m)\u001b[0m\u001b[0;34m\u001b[0m\u001b[0;34m\u001b[0m\u001b[0m\n\u001b[0m",
      "\u001b[0;31mAttributeError\u001b[0m: 'Professor' object has no attribute 'salario'"
     ]
    }
   ],
   "source": [
    "professor = Professor('Ana', 26, 5000)\n",
    "\n",
    "professor.get_data()\n",
    "\n",
    "print(f'O salário é de {professor.salario}')"
   ]
  },
  {
   "cell_type": "code",
   "execution_count": 32,
   "metadata": {},
   "outputs": [
    {
     "name": "stdout",
     "output_type": "stream",
     "text": [
      "O salário do(a) Ana é de R$ 5000\n"
     ]
    }
   ],
   "source": [
    "professor.get_salary('123')"
   ]
  },
  {
   "cell_type": "code",
   "execution_count": 33,
   "metadata": {},
   "outputs": [
    {
     "name": "stdout",
     "output_type": "stream",
     "text": [
      "id do usuário está incorreto\n"
     ]
    }
   ],
   "source": [
    "professor.get_salary('456')"
   ]
  },
  {
   "cell_type": "markdown",
   "metadata": {},
   "source": [
    "5. Escreva uma classe “Quadrado”, crie dois métodos que retornem a\n",
    "área do quadrado e o perímetro, não crie a instância nesse exercício."
   ]
  },
  {
   "cell_type": "code",
   "execution_count": 37,
   "metadata": {},
   "outputs": [],
   "source": [
    "class Square():\n",
    "    def __init__(self, lado):\n",
    "        self.lado = lado\n",
    "\n",
    "    def calculate_area(self):\n",
    "        self.area = self.lado**2\n",
    "        print(f'A área do quadrado é de {self.area}')\n",
    "    \n",
    "    def calculate_perimeter(self):\n",
    "        self.perimeter = self.lado * 4\n",
    "        print(f'O perímetro do quadrado é de {self.perimeter}')"
   ]
  },
  {
   "cell_type": "code",
   "execution_count": 38,
   "metadata": {},
   "outputs": [
    {
     "name": "stdout",
     "output_type": "stream",
     "text": [
      "A área do quadrado é de 4\n",
      "O perímetro do quadrado é de 8\n"
     ]
    }
   ],
   "source": [
    "quadrado = Square(2)\n",
    "\n",
    "quadrado.calculate_area()\n",
    "quadrado.calculate_perimeter()"
   ]
  },
  {
   "cell_type": "markdown",
   "metadata": {},
   "source": [
    "6. Crie um arquivo .py, importe a classe “Quadrado”, crie uma nova\n",
    "instância e acesse seus métodos."
   ]
  },
  {
   "cell_type": "code",
   "execution_count": 39,
   "metadata": {},
   "outputs": [],
   "source": [
    "from classe_lista2 import Square2"
   ]
  },
  {
   "cell_type": "code",
   "execution_count": 40,
   "metadata": {},
   "outputs": [
    {
     "name": "stdout",
     "output_type": "stream",
     "text": [
      "A área do quadrado é de 4\n",
      "O perímetro do quadrado é de 8\n"
     ]
    }
   ],
   "source": [
    "quadrado = Square2(2)\n",
    "\n",
    "quadrado.calculate_area()\n",
    "quadrado.calculate_perimeter()"
   ]
  },
  {
   "cell_type": "code",
   "execution_count": null,
   "metadata": {},
   "outputs": [],
   "source": []
  }
 ],
 "metadata": {
  "kernelspec": {
   "display_name": "Python 3",
   "language": "python",
   "name": "python3"
  },
  "language_info": {
   "codemirror_mode": {
    "name": "ipython",
    "version": 3
   },
   "file_extension": ".py",
   "mimetype": "text/x-python",
   "name": "python",
   "nbconvert_exporter": "python",
   "pygments_lexer": "ipython3",
   "version": "3.7.3"
  }
 },
 "nbformat": 4,
 "nbformat_minor": 2
}
